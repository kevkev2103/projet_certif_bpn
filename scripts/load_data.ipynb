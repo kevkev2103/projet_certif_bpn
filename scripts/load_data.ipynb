{
 "cells": [
  {
   "cell_type": "markdown",
   "metadata": {},
   "source": [
    "# Revenu médian par catégorie Sociopro"
   ]
  },
  {
   "cell_type": "code",
   "execution_count": 1,
   "metadata": {},
   "outputs": [],
   "source": [
    "import pandas as pd\n",
    "import os\n",
    "\n",
    "file_path = \"../data_brute/ifi 2023 par UC.xlsx\"\n",
    "output_folder = \"../data_clean/\"\n",
    "output_file = os.path.join(output_folder, \"ifi2023.csv\")\n",
    "xls = pd.ExcelFile(file_path)\n",
    "df = pd.read_excel(xls)\n"
   ]
  },
  {
   "cell_type": "code",
   "execution_count": 8,
   "metadata": {},
   "outputs": [
    {
     "data": {
      "text/html": [
       "<div>\n",
       "<style scoped>\n",
       "    .dataframe tbody tr th:only-of-type {\n",
       "        vertical-align: middle;\n",
       "    }\n",
       "\n",
       "    .dataframe tbody tr th {\n",
       "        vertical-align: top;\n",
       "    }\n",
       "\n",
       "    .dataframe thead th {\n",
       "        text-align: right;\n",
       "    }\n",
       "</style>\n",
       "<table border=\"1\" class=\"dataframe\">\n",
       "  <thead>\n",
       "    <tr style=\"text-align: right;\">\n",
       "      <th></th>\n",
       "      <th>Région</th>\n",
       "      <th>Département</th>\n",
       "      <th>Code commune</th>\n",
       "      <th>Commune</th>\n",
       "      <th>Nombre redevables</th>\n",
       "      <th>Patrimoine moyen en €</th>\n",
       "      <th>Impôt Moyen en €</th>\n",
       "    </tr>\n",
       "  </thead>\n",
       "  <tbody>\n",
       "    <tr>\n",
       "      <th>1</th>\n",
       "      <td>GUADELOUPE</td>\n",
       "      <td>GUADELOUPE</td>\n",
       "      <td>97 113</td>\n",
       "      <td>LE GOSIER</td>\n",
       "      <td>62</td>\n",
       "      <td>3489711</td>\n",
       "      <td>21178</td>\n",
       "    </tr>\n",
       "    <tr>\n",
       "      <th>2</th>\n",
       "      <td>ILE-DE-FRANCE</td>\n",
       "      <td>PARIS</td>\n",
       "      <td>75 107</td>\n",
       "      <td>PARIS 7ème arrdt</td>\n",
       "      <td>4524</td>\n",
       "      <td>3478984</td>\n",
       "      <td>18651</td>\n",
       "    </tr>\n",
       "    <tr>\n",
       "      <th>3</th>\n",
       "      <td>LES-HAUTS-DE-FRANCE</td>\n",
       "      <td>OISE</td>\n",
       "      <td>60 057</td>\n",
       "      <td>BEAUVAIS</td>\n",
       "      <td>65</td>\n",
       "      <td>3104743</td>\n",
       "      <td>15403</td>\n",
       "    </tr>\n",
       "    <tr>\n",
       "      <th>4</th>\n",
       "      <td>ILE-DE-FRANCE</td>\n",
       "      <td>PARIS</td>\n",
       "      <td>75 106</td>\n",
       "      <td>PARIS 6ème arrdt</td>\n",
       "      <td>2980</td>\n",
       "      <td>3103252</td>\n",
       "      <td>16243</td>\n",
       "    </tr>\n",
       "    <tr>\n",
       "      <th>5</th>\n",
       "      <td>PROVENCE-ALPES-COTE D'AZUR</td>\n",
       "      <td>ALPES-MARITIMES</td>\n",
       "      <td>06 029</td>\n",
       "      <td>CANNES</td>\n",
       "      <td>758</td>\n",
       "      <td>2993428</td>\n",
       "      <td>13680</td>\n",
       "    </tr>\n",
       "  </tbody>\n",
       "</table>\n",
       "</div>"
      ],
      "text/plain": [
       "                       Région      Département Code commune           Commune  \\\n",
       "1                  GUADELOUPE       GUADELOUPE       97 113         LE GOSIER   \n",
       "2               ILE-DE-FRANCE            PARIS       75 107  PARIS 7ème arrdt   \n",
       "3         LES-HAUTS-DE-FRANCE             OISE       60 057          BEAUVAIS   \n",
       "4               ILE-DE-FRANCE            PARIS       75 106  PARIS 6ème arrdt   \n",
       "5  PROVENCE-ALPES-COTE D'AZUR  ALPES-MARITIMES       06 029            CANNES   \n",
       "\n",
       "  Nombre redevables Patrimoine moyen en € Impôt Moyen en €  \n",
       "1                62               3489711            21178  \n",
       "2              4524               3478984            18651  \n",
       "3                65               3104743            15403  \n",
       "4              2980               3103252            16243  \n",
       "5               758               2993428            13680  "
      ]
     },
     "execution_count": 8,
     "metadata": {},
     "output_type": "execute_result"
    }
   ],
   "source": [
    "df_clean = df.iloc[1:,:]\n",
    "df_clean.columns=[\"Région\",\"Département\",\"Code commune\", \"Commune\",\"Nombre redevables\",\"Patrimoine moyen en €\",\"Impôt Moyen en €\"]\n",
    "df_clean.head()"
   ]
  }
 ],
 "metadata": {
  "kernelspec": {
   "display_name": "venv",
   "language": "python",
   "name": "python3"
  },
  "language_info": {
   "codemirror_mode": {
    "name": "ipython",
    "version": 3
   },
   "file_extension": ".py",
   "mimetype": "text/x-python",
   "name": "python",
   "nbconvert_exporter": "python",
   "pygments_lexer": "ipython3",
   "version": "3.10.12"
  }
 },
 "nbformat": 4,
 "nbformat_minor": 2
}
