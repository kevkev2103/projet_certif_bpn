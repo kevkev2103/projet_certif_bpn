{
 "cells": [
  {
   "cell_type": "markdown",
   "metadata": {},
   "source": [
    "# Revenu médian par catégorie Sociopro"
   ]
  },
  {
   "cell_type": "code",
   "execution_count": 12,
   "metadata": {},
   "outputs": [],
   "source": [
    "import pandas as pd\n",
    "import os\n",
    "\n",
    "file_path = \"../data_brute/disparités h-f.xlsx\"\n",
    "xls = pd.ExcelFile(file_path)\n",
    "df = pd.read_excel(xls, sheet_name=\"Figure 2\")\n"
   ]
  },
  {
   "cell_type": "code",
   "execution_count": 13,
   "metadata": {},
   "outputs": [
    {
     "data": {
      "text/html": [
       "<div>\n",
       "<style scoped>\n",
       "    .dataframe tbody tr th:only-of-type {\n",
       "        vertical-align: middle;\n",
       "    }\n",
       "\n",
       "    .dataframe tbody tr th {\n",
       "        vertical-align: top;\n",
       "    }\n",
       "\n",
       "    .dataframe thead th {\n",
       "        text-align: right;\n",
       "    }\n",
       "</style>\n",
       "<table border=\"1\" class=\"dataframe\">\n",
       "  <thead>\n",
       "    <tr style=\"text-align: right;\">\n",
       "      <th></th>\n",
       "      <th>Figure 2 – Écarts de salaire et de temps de travail moyens entre les femmes et les hommes dans le secteur privé en 2023</th>\n",
       "      <th>Unnamed: 1</th>\n",
       "      <th>Unnamed: 2</th>\n",
       "      <th>Unnamed: 3</th>\n",
       "      <th>Unnamed: 4</th>\n",
       "      <th>Unnamed: 5</th>\n",
       "      <th>Unnamed: 6</th>\n",
       "    </tr>\n",
       "  </thead>\n",
       "  <tbody>\n",
       "    <tr>\n",
       "      <th>0</th>\n",
       "      <td>NaN</td>\n",
       "      <td>NaN</td>\n",
       "      <td>NaN</td>\n",
       "      <td>NaN</td>\n",
       "      <td>NaN</td>\n",
       "      <td>NaN</td>\n",
       "      <td>NaN</td>\n",
       "    </tr>\n",
       "    <tr>\n",
       "      <th>1</th>\n",
       "      <td>Caractéristiques</td>\n",
       "      <td>Salaire mensuel net en EQTP\\n(en euros)</td>\n",
       "      <td>NaN</td>\n",
       "      <td>NaN</td>\n",
       "      <td>Volume de travail \\n(en EQTP)</td>\n",
       "      <td>NaN</td>\n",
       "      <td>NaN</td>\n",
       "    </tr>\n",
       "    <tr>\n",
       "      <th>2</th>\n",
       "      <td>NaN</td>\n",
       "      <td>Femmes</td>\n",
       "      <td>Hommes</td>\n",
       "      <td>Écart (en %)</td>\n",
       "      <td>Femmes</td>\n",
       "      <td>Hommes</td>\n",
       "      <td>Écart (en %)</td>\n",
       "    </tr>\n",
       "    <tr>\n",
       "      <th>3</th>\n",
       "      <td>Catégorie socioprofessionnelle</td>\n",
       "      <td>NaN</td>\n",
       "      <td>NaN</td>\n",
       "      <td>NaN</td>\n",
       "      <td>NaN</td>\n",
       "      <td>NaN</td>\n",
       "      <td>NaN</td>\n",
       "    </tr>\n",
       "    <tr>\n",
       "      <th>4</th>\n",
       "      <td>Cadres1</td>\n",
       "      <td>4120</td>\n",
       "      <td>4849</td>\n",
       "      <td>15</td>\n",
       "      <td>0.81</td>\n",
       "      <td>0.85</td>\n",
       "      <td>4.4</td>\n",
       "    </tr>\n",
       "  </tbody>\n",
       "</table>\n",
       "</div>"
      ],
      "text/plain": [
       "  Figure 2 – Écarts de salaire et de temps de travail moyens entre les femmes et les hommes dans le secteur privé en 2023  \\\n",
       "0                                                NaN                                                                        \n",
       "1                                   Caractéristiques                                                                        \n",
       "2                                                NaN                                                                        \n",
       "3                 Catégorie socioprofessionnelle                                                                            \n",
       "4                                            Cadres1                                                                        \n",
       "\n",
       "                                Unnamed: 1 Unnamed: 2    Unnamed: 3  \\\n",
       "0                                      NaN        NaN           NaN   \n",
       "1  Salaire mensuel net en EQTP\\n(en euros)        NaN           NaN   \n",
       "2                                   Femmes     Hommes  Écart (en %)   \n",
       "3                                      NaN        NaN           NaN   \n",
       "4                                     4120       4849            15   \n",
       "\n",
       "                      Unnamed: 4 Unnamed: 5    Unnamed: 6  \n",
       "0                            NaN        NaN           NaN  \n",
       "1  Volume de travail \\n(en EQTP)        NaN           NaN  \n",
       "2                         Femmes     Hommes  Écart (en %)  \n",
       "3                            NaN        NaN           NaN  \n",
       "4                           0.81       0.85           4.4  "
      ]
     },
     "execution_count": 13,
     "metadata": {},
     "output_type": "execute_result"
    }
   ],
   "source": [
    "df.head()"
   ]
  }
 ],
 "metadata": {
  "kernelspec": {
   "display_name": "venv",
   "language": "python",
   "name": "python3"
  },
  "language_info": {
   "codemirror_mode": {
    "name": "ipython",
    "version": 3
   },
   "file_extension": ".py",
   "mimetype": "text/x-python",
   "name": "python",
   "nbconvert_exporter": "python",
   "pygments_lexer": "ipython3",
   "version": "3.10.12"
  }
 },
 "nbformat": 4,
 "nbformat_minor": 2
}
